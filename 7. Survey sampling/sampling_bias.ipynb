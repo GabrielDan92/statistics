{
 "cells": [
  {
   "cell_type": "markdown",
   "id": "e6ef052d",
   "metadata": {},
   "source": [
    "# Fixing sampling bias\n",
    "This notebook aims to show a simple way of dealing with sampling bias, by using weights for inference."
   ]
  },
  {
   "cell_type": "code",
   "execution_count": 14,
   "id": "86deb336",
   "metadata": {},
   "outputs": [],
   "source": [
    "import pandas as pd"
   ]
  },
  {
   "cell_type": "code",
   "execution_count": 15,
   "id": "4608553a",
   "metadata": {},
   "outputs": [
    {
     "data": {
      "text/html": [
       "<div>\n",
       "<style scoped>\n",
       "    .dataframe tbody tr th:only-of-type {\n",
       "        vertical-align: middle;\n",
       "    }\n",
       "\n",
       "    .dataframe tbody tr th {\n",
       "        vertical-align: top;\n",
       "    }\n",
       "\n",
       "    .dataframe thead th {\n",
       "        text-align: right;\n",
       "    }\n",
       "</style>\n",
       "<table border=\"1\" class=\"dataframe\">\n",
       "  <thead>\n",
       "    <tr style=\"text-align: right;\">\n",
       "      <th></th>\n",
       "      <th>gender</th>\n",
       "      <th>age_range</th>\n",
       "      <th>answer1</th>\n",
       "      <th>answer2</th>\n",
       "    </tr>\n",
       "  </thead>\n",
       "  <tbody>\n",
       "    <tr>\n",
       "      <th>0</th>\n",
       "      <td>M</td>\n",
       "      <td>20-25</td>\n",
       "      <td>5</td>\n",
       "      <td>A</td>\n",
       "    </tr>\n",
       "    <tr>\n",
       "      <th>1</th>\n",
       "      <td>M</td>\n",
       "      <td>20-25</td>\n",
       "      <td>7</td>\n",
       "      <td>A</td>\n",
       "    </tr>\n",
       "    <tr>\n",
       "      <th>2</th>\n",
       "      <td>M</td>\n",
       "      <td>25-30</td>\n",
       "      <td>7</td>\n",
       "      <td>B</td>\n",
       "    </tr>\n",
       "    <tr>\n",
       "      <th>3</th>\n",
       "      <td>M</td>\n",
       "      <td>30-35</td>\n",
       "      <td>8</td>\n",
       "      <td>A</td>\n",
       "    </tr>\n",
       "    <tr>\n",
       "      <th>4</th>\n",
       "      <td>M</td>\n",
       "      <td>20-25</td>\n",
       "      <td>5</td>\n",
       "      <td>C</td>\n",
       "    </tr>\n",
       "    <tr>\n",
       "      <th>...</th>\n",
       "      <td>...</td>\n",
       "      <td>...</td>\n",
       "      <td>...</td>\n",
       "      <td>...</td>\n",
       "    </tr>\n",
       "    <tr>\n",
       "      <th>5</th>\n",
       "      <td>M</td>\n",
       "      <td>20-25</td>\n",
       "      <td>7</td>\n",
       "      <td>B</td>\n",
       "    </tr>\n",
       "    <tr>\n",
       "      <th>6</th>\n",
       "      <td>F</td>\n",
       "      <td>30-35</td>\n",
       "      <td>6</td>\n",
       "      <td>C</td>\n",
       "    </tr>\n",
       "    <tr>\n",
       "      <th>7</th>\n",
       "      <td>F</td>\n",
       "      <td>25-30</td>\n",
       "      <td>9</td>\n",
       "      <td>A</td>\n",
       "    </tr>\n",
       "    <tr>\n",
       "      <th>8</th>\n",
       "      <td>F</td>\n",
       "      <td>20-25</td>\n",
       "      <td>8</td>\n",
       "      <td>C</td>\n",
       "    </tr>\n",
       "    <tr>\n",
       "      <th>9</th>\n",
       "      <td>M</td>\n",
       "      <td>30-35</td>\n",
       "      <td>9</td>\n",
       "      <td>C</td>\n",
       "    </tr>\n",
       "  </tbody>\n",
       "</table>\n",
       "<p>10000 rows × 4 columns</p>\n",
       "</div>"
      ],
      "text/plain": [
       "   gender age_range  answer1 answer2\n",
       "0       M     20-25        5       A\n",
       "1       M     20-25        7       A\n",
       "2       M     25-30        7       B\n",
       "3       M     30-35        8       A\n",
       "4       M     20-25        5       C\n",
       "..    ...       ...      ...     ...\n",
       "5       M     20-25        7       B\n",
       "6       F     30-35        6       C\n",
       "7       F     25-30        9       A\n",
       "8       F     20-25        8       C\n",
       "9       M     30-35        9       C\n",
       "\n",
       "[10000 rows x 4 columns]"
      ]
     },
     "execution_count": 15,
     "metadata": {},
     "output_type": "execute_result"
    }
   ],
   "source": [
    "#create DataFrame\n",
    "df = pd.DataFrame({'gender': ['M', 'M', 'M', 'M', 'M', 'M', 'F', 'F', 'F', 'M'],\n",
    "                   'age_range': ['20-25', '20-25', '25-30', '30-35', '20-25', '20-25', '30-35', '25-30', '20-25', '30-35'],\n",
    "                   'answer1': [5, 7, 7, 8, 5, 7, 6, 9, 8, 9],\n",
    "                   'answer2': ['A', 'A', 'B', 'A', 'C', 'B', 'C', 'A', 'C', 'C']})\n",
    "\n",
    "df = pd.concat(1000*[df]) # we do this in order to have enough data to sample from\n",
    "df"
   ]
  },
  {
   "cell_type": "code",
   "execution_count": 16,
   "id": "0287efcd",
   "metadata": {},
   "outputs": [
    {
     "data": {
      "text/html": [
       "<div>\n",
       "<style scoped>\n",
       "    .dataframe tbody tr th:only-of-type {\n",
       "        vertical-align: middle;\n",
       "    }\n",
       "\n",
       "    .dataframe tbody tr th {\n",
       "        vertical-align: top;\n",
       "    }\n",
       "\n",
       "    .dataframe thead th {\n",
       "        text-align: right;\n",
       "    }\n",
       "</style>\n",
       "<table border=\"1\" class=\"dataframe\">\n",
       "  <thead>\n",
       "    <tr style=\"text-align: right;\">\n",
       "      <th></th>\n",
       "      <th>gender</th>\n",
       "      <th>age_range</th>\n",
       "      <th>answer1</th>\n",
       "      <th>answer2</th>\n",
       "      <th>prev_weight</th>\n",
       "    </tr>\n",
       "  </thead>\n",
       "  <tbody>\n",
       "    <tr>\n",
       "      <th>0</th>\n",
       "      <td>M</td>\n",
       "      <td>20-25</td>\n",
       "      <td>5</td>\n",
       "      <td>A</td>\n",
       "      <td>4000</td>\n",
       "    </tr>\n",
       "    <tr>\n",
       "      <th>1</th>\n",
       "      <td>M</td>\n",
       "      <td>20-25</td>\n",
       "      <td>7</td>\n",
       "      <td>A</td>\n",
       "      <td>4000</td>\n",
       "    </tr>\n",
       "    <tr>\n",
       "      <th>2</th>\n",
       "      <td>M</td>\n",
       "      <td>20-25</td>\n",
       "      <td>5</td>\n",
       "      <td>C</td>\n",
       "      <td>4000</td>\n",
       "    </tr>\n",
       "    <tr>\n",
       "      <th>3</th>\n",
       "      <td>M</td>\n",
       "      <td>20-25</td>\n",
       "      <td>7</td>\n",
       "      <td>B</td>\n",
       "      <td>4000</td>\n",
       "    </tr>\n",
       "    <tr>\n",
       "      <th>4</th>\n",
       "      <td>M</td>\n",
       "      <td>20-25</td>\n",
       "      <td>5</td>\n",
       "      <td>A</td>\n",
       "      <td>4000</td>\n",
       "    </tr>\n",
       "    <tr>\n",
       "      <th>...</th>\n",
       "      <td>...</td>\n",
       "      <td>...</td>\n",
       "      <td>...</td>\n",
       "      <td>...</td>\n",
       "      <td>...</td>\n",
       "    </tr>\n",
       "    <tr>\n",
       "      <th>9995</th>\n",
       "      <td>F</td>\n",
       "      <td>20-25</td>\n",
       "      <td>8</td>\n",
       "      <td>C</td>\n",
       "      <td>1000</td>\n",
       "    </tr>\n",
       "    <tr>\n",
       "      <th>9996</th>\n",
       "      <td>F</td>\n",
       "      <td>20-25</td>\n",
       "      <td>8</td>\n",
       "      <td>C</td>\n",
       "      <td>1000</td>\n",
       "    </tr>\n",
       "    <tr>\n",
       "      <th>9997</th>\n",
       "      <td>F</td>\n",
       "      <td>20-25</td>\n",
       "      <td>8</td>\n",
       "      <td>C</td>\n",
       "      <td>1000</td>\n",
       "    </tr>\n",
       "    <tr>\n",
       "      <th>9998</th>\n",
       "      <td>F</td>\n",
       "      <td>20-25</td>\n",
       "      <td>8</td>\n",
       "      <td>C</td>\n",
       "      <td>1000</td>\n",
       "    </tr>\n",
       "    <tr>\n",
       "      <th>9999</th>\n",
       "      <td>F</td>\n",
       "      <td>20-25</td>\n",
       "      <td>8</td>\n",
       "      <td>C</td>\n",
       "      <td>1000</td>\n",
       "    </tr>\n",
       "  </tbody>\n",
       "</table>\n",
       "<p>10000 rows × 5 columns</p>\n",
       "</div>"
      ],
      "text/plain": [
       "     gender age_range  answer1 answer2  prev_weight\n",
       "0         M     20-25        5       A         4000\n",
       "1         M     20-25        7       A         4000\n",
       "2         M     20-25        5       C         4000\n",
       "3         M     20-25        7       B         4000\n",
       "4         M     20-25        5       A         4000\n",
       "...     ...       ...      ...     ...          ...\n",
       "9995      F     20-25        8       C         1000\n",
       "9996      F     20-25        8       C         1000\n",
       "9997      F     20-25        8       C         1000\n",
       "9998      F     20-25        8       C         1000\n",
       "9999      F     20-25        8       C         1000\n",
       "\n",
       "[10000 rows x 5 columns]"
      ]
     },
     "execution_count": 16,
     "metadata": {},
     "output_type": "execute_result"
    }
   ],
   "source": [
    "# We calculate the sample class frequencies\n",
    "\n",
    "prev_weights = df.groupby(['gender','age_range']).size().reset_index().rename(columns={0:'prev_weight'})\n",
    "df = df.merge(prev_weights, on=['gender', 'age_range'])\n",
    "\n",
    "df"
   ]
  },
  {
   "cell_type": "code",
   "execution_count": 17,
   "id": "a93852be",
   "metadata": {},
   "outputs": [
    {
     "data": {
      "text/html": [
       "<div>\n",
       "<style scoped>\n",
       "    .dataframe tbody tr th:only-of-type {\n",
       "        vertical-align: middle;\n",
       "    }\n",
       "\n",
       "    .dataframe tbody tr th {\n",
       "        vertical-align: top;\n",
       "    }\n",
       "\n",
       "    .dataframe thead th {\n",
       "        text-align: right;\n",
       "    }\n",
       "</style>\n",
       "<table border=\"1\" class=\"dataframe\">\n",
       "  <thead>\n",
       "    <tr style=\"text-align: right;\">\n",
       "      <th></th>\n",
       "      <th>gender</th>\n",
       "      <th>age_range</th>\n",
       "      <th>answer1</th>\n",
       "      <th>answer2</th>\n",
       "      <th>prev_weight</th>\n",
       "      <th>weight</th>\n",
       "    </tr>\n",
       "  </thead>\n",
       "  <tbody>\n",
       "    <tr>\n",
       "      <th>0</th>\n",
       "      <td>M</td>\n",
       "      <td>20-25</td>\n",
       "      <td>5</td>\n",
       "      <td>A</td>\n",
       "      <td>4000</td>\n",
       "      <td>0.15</td>\n",
       "    </tr>\n",
       "    <tr>\n",
       "      <th>1</th>\n",
       "      <td>M</td>\n",
       "      <td>20-25</td>\n",
       "      <td>7</td>\n",
       "      <td>A</td>\n",
       "      <td>4000</td>\n",
       "      <td>0.15</td>\n",
       "    </tr>\n",
       "    <tr>\n",
       "      <th>2</th>\n",
       "      <td>M</td>\n",
       "      <td>20-25</td>\n",
       "      <td>5</td>\n",
       "      <td>C</td>\n",
       "      <td>4000</td>\n",
       "      <td>0.15</td>\n",
       "    </tr>\n",
       "    <tr>\n",
       "      <th>3</th>\n",
       "      <td>M</td>\n",
       "      <td>20-25</td>\n",
       "      <td>7</td>\n",
       "      <td>B</td>\n",
       "      <td>4000</td>\n",
       "      <td>0.15</td>\n",
       "    </tr>\n",
       "    <tr>\n",
       "      <th>4</th>\n",
       "      <td>M</td>\n",
       "      <td>20-25</td>\n",
       "      <td>5</td>\n",
       "      <td>A</td>\n",
       "      <td>4000</td>\n",
       "      <td>0.15</td>\n",
       "    </tr>\n",
       "    <tr>\n",
       "      <th>...</th>\n",
       "      <td>...</td>\n",
       "      <td>...</td>\n",
       "      <td>...</td>\n",
       "      <td>...</td>\n",
       "      <td>...</td>\n",
       "      <td>...</td>\n",
       "    </tr>\n",
       "    <tr>\n",
       "      <th>9995</th>\n",
       "      <td>F</td>\n",
       "      <td>20-25</td>\n",
       "      <td>8</td>\n",
       "      <td>C</td>\n",
       "      <td>1000</td>\n",
       "      <td>0.17</td>\n",
       "    </tr>\n",
       "    <tr>\n",
       "      <th>9996</th>\n",
       "      <td>F</td>\n",
       "      <td>20-25</td>\n",
       "      <td>8</td>\n",
       "      <td>C</td>\n",
       "      <td>1000</td>\n",
       "      <td>0.17</td>\n",
       "    </tr>\n",
       "    <tr>\n",
       "      <th>9997</th>\n",
       "      <td>F</td>\n",
       "      <td>20-25</td>\n",
       "      <td>8</td>\n",
       "      <td>C</td>\n",
       "      <td>1000</td>\n",
       "      <td>0.17</td>\n",
       "    </tr>\n",
       "    <tr>\n",
       "      <th>9998</th>\n",
       "      <td>F</td>\n",
       "      <td>20-25</td>\n",
       "      <td>8</td>\n",
       "      <td>C</td>\n",
       "      <td>1000</td>\n",
       "      <td>0.17</td>\n",
       "    </tr>\n",
       "    <tr>\n",
       "      <th>9999</th>\n",
       "      <td>F</td>\n",
       "      <td>20-25</td>\n",
       "      <td>8</td>\n",
       "      <td>C</td>\n",
       "      <td>1000</td>\n",
       "      <td>0.17</td>\n",
       "    </tr>\n",
       "  </tbody>\n",
       "</table>\n",
       "<p>10000 rows × 6 columns</p>\n",
       "</div>"
      ],
      "text/plain": [
       "     gender age_range  answer1 answer2  prev_weight  weight\n",
       "0         M     20-25        5       A         4000    0.15\n",
       "1         M     20-25        7       A         4000    0.15\n",
       "2         M     20-25        5       C         4000    0.15\n",
       "3         M     20-25        7       B         4000    0.15\n",
       "4         M     20-25        5       A         4000    0.15\n",
       "...     ...       ...      ...     ...          ...     ...\n",
       "9995      F     20-25        8       C         1000    0.17\n",
       "9996      F     20-25        8       C         1000    0.17\n",
       "9997      F     20-25        8       C         1000    0.17\n",
       "9998      F     20-25        8       C         1000    0.17\n",
       "9999      F     20-25        8       C         1000    0.17\n",
       "\n",
       "[10000 rows x 6 columns]"
      ]
     },
     "execution_count": 17,
     "metadata": {},
     "output_type": "execute_result"
    }
   ],
   "source": [
    "# We add the population class frequencies, taken from census data\n",
    "\n",
    "props = pd.DataFrame({'gender': ['M', 'M', 'M', 'F', 'F', 'F'],\n",
    "                      'age_range': ['20-25', '25-30', '30-35', '20-25','25-30', '30-35'],\n",
    "                      'weight': [0.15, 0.16, 0.17, 0.17, 0.16, 0.19]\n",
    "                     })\n",
    "df = df.merge(props, on=['gender', 'age_range'])\n",
    "df"
   ]
  },
  {
   "cell_type": "code",
   "execution_count": 18,
   "id": "49038bf4",
   "metadata": {},
   "outputs": [],
   "source": [
    "# This last step helps us ponderate the weights by the original sample frequencies.\n",
    "# The more biased the original sample is, the more we have to compensate it.\n",
    "\n",
    "df['weight'] = df['weight']/df['prev_weight']"
   ]
  },
  {
   "cell_type": "markdown",
   "id": "af181166",
   "metadata": {},
   "source": [
    "### Original data distribution"
   ]
  },
  {
   "cell_type": "code",
   "execution_count": 25,
   "id": "82efec89",
   "metadata": {},
   "outputs": [
    {
     "data": {
      "text/plain": [
       "gender  age_range\n",
       "F       20-25        0.1\n",
       "        25-30        0.1\n",
       "        30-35        0.1\n",
       "M       20-25        0.4\n",
       "        25-30        0.1\n",
       "        30-35        0.2\n",
       "Name: answer1, dtype: float64"
      ]
     },
     "execution_count": 25,
     "metadata": {},
     "output_type": "execute_result"
    }
   ],
   "source": [
    "df.groupby(['gender','age_range'])['answer1'].count()/10000"
   ]
  },
  {
   "cell_type": "markdown",
   "id": "30029dec",
   "metadata": {},
   "source": [
    "### Population distribution"
   ]
  },
  {
   "cell_type": "code",
   "execution_count": 21,
   "id": "43c7187b",
   "metadata": {},
   "outputs": [
    {
     "data": {
      "text/html": [
       "<div>\n",
       "<style scoped>\n",
       "    .dataframe tbody tr th:only-of-type {\n",
       "        vertical-align: middle;\n",
       "    }\n",
       "\n",
       "    .dataframe tbody tr th {\n",
       "        vertical-align: top;\n",
       "    }\n",
       "\n",
       "    .dataframe thead th {\n",
       "        text-align: right;\n",
       "    }\n",
       "</style>\n",
       "<table border=\"1\" class=\"dataframe\">\n",
       "  <thead>\n",
       "    <tr style=\"text-align: right;\">\n",
       "      <th></th>\n",
       "      <th></th>\n",
       "      <th>weight</th>\n",
       "    </tr>\n",
       "    <tr>\n",
       "      <th>gender</th>\n",
       "      <th>age_range</th>\n",
       "      <th></th>\n",
       "    </tr>\n",
       "  </thead>\n",
       "  <tbody>\n",
       "    <tr>\n",
       "      <th rowspan=\"3\" valign=\"top\">F</th>\n",
       "      <th>20-25</th>\n",
       "      <td>0.17</td>\n",
       "    </tr>\n",
       "    <tr>\n",
       "      <th>25-30</th>\n",
       "      <td>0.16</td>\n",
       "    </tr>\n",
       "    <tr>\n",
       "      <th>30-35</th>\n",
       "      <td>0.19</td>\n",
       "    </tr>\n",
       "    <tr>\n",
       "      <th rowspan=\"3\" valign=\"top\">M</th>\n",
       "      <th>20-25</th>\n",
       "      <td>0.15</td>\n",
       "    </tr>\n",
       "    <tr>\n",
       "      <th>25-30</th>\n",
       "      <td>0.16</td>\n",
       "    </tr>\n",
       "    <tr>\n",
       "      <th>30-35</th>\n",
       "      <td>0.17</td>\n",
       "    </tr>\n",
       "  </tbody>\n",
       "</table>\n",
       "</div>"
      ],
      "text/plain": [
       "                  weight\n",
       "gender age_range        \n",
       "F      20-25        0.17\n",
       "       25-30        0.16\n",
       "       30-35        0.19\n",
       "M      20-25        0.15\n",
       "       25-30        0.16\n",
       "       30-35        0.17"
      ]
     },
     "execution_count": 21,
     "metadata": {},
     "output_type": "execute_result"
    }
   ],
   "source": [
    "props.groupby(['gender','age_range']).sum()"
   ]
  },
  {
   "cell_type": "markdown",
   "id": "12d1c44e",
   "metadata": {},
   "source": [
    "### Weighted data distribution"
   ]
  },
  {
   "cell_type": "code",
   "execution_count": 24,
   "id": "67a588be",
   "metadata": {},
   "outputs": [
    {
     "data": {
      "text/plain": [
       "gender  age_range\n",
       "F       20-25        16.7\n",
       "        25-30        16.5\n",
       "        30-35        18.2\n",
       "M       20-25        16.6\n",
       "        25-30        14.5\n",
       "        30-35        17.5\n",
       "Name: answer1, dtype: float64"
      ]
     },
     "execution_count": 24,
     "metadata": {},
     "output_type": "execute_result"
    }
   ],
   "source": [
    "df\\\n",
    "    .sample(n=1000, weights='weight', random_state=1)\\\n",
    "    .reset_index(drop=True)\\\n",
    "    .groupby(['gender','age_range'])\\\n",
    "    .count()['answer1']/10"
   ]
  },
  {
   "cell_type": "markdown",
   "id": "21822d18",
   "metadata": {},
   "source": [
    "### Calculating average answers"
   ]
  },
  {
   "cell_type": "code",
   "execution_count": 53,
   "id": "fda0a194",
   "metadata": {},
   "outputs": [
    {
     "data": {
      "text/plain": [
       "7.1"
      ]
     },
     "execution_count": 53,
     "metadata": {},
     "output_type": "execute_result"
    }
   ],
   "source": [
    "df['answer1'].mean() # Answer we would have obtained with our original sample"
   ]
  },
  {
   "cell_type": "code",
   "execution_count": 54,
   "id": "1e545328",
   "metadata": {},
   "outputs": [
    {
     "data": {
      "text/plain": [
       "7.405000000000001"
      ]
     },
     "execution_count": 54,
     "metadata": {},
     "output_type": "execute_result"
    }
   ],
   "source": [
    "(df['answer1']*df['weight']).sum() # Answer obtained using weights"
   ]
  },
  {
   "cell_type": "code",
   "execution_count": 72,
   "id": "f79f9aa1",
   "metadata": {},
   "outputs": [
    {
     "data": {
      "text/plain": [
       "answer2\n",
       "A    0.4\n",
       "B    0.2\n",
       "C    0.4\n",
       "Name: answer2, dtype: float64"
      ]
     },
     "execution_count": 72,
     "metadata": {},
     "output_type": "execute_result"
    }
   ],
   "source": [
    "df.groupby(['answer2'])['answer2'].count()/df.shape[0] # Answer we would have obtained with our original sample"
   ]
  },
  {
   "cell_type": "code",
   "execution_count": 74,
   "id": "3765b1ee",
   "metadata": {},
   "outputs": [
    {
     "data": {
      "text/plain": [
       "answer2\n",
       "A    0.3200\n",
       "B    0.1975\n",
       "C    0.4825\n",
       "Name: weight, dtype: float64"
      ]
     },
     "execution_count": 74,
     "metadata": {},
     "output_type": "execute_result"
    }
   ],
   "source": [
    "df.groupby(['answer2'])['weight'].sum() # Answer obtained using weights"
   ]
  }
 ],
 "metadata": {
  "kernelspec": {
   "display_name": "Python 3",
   "language": "python",
   "name": "python3"
  },
  "language_info": {
   "codemirror_mode": {
    "name": "ipython",
    "version": 3
   },
   "file_extension": ".py",
   "mimetype": "text/x-python",
   "name": "python",
   "nbconvert_exporter": "python",
   "pygments_lexer": "ipython3",
   "version": "3.8.8"
  }
 },
 "nbformat": 4,
 "nbformat_minor": 5
}
