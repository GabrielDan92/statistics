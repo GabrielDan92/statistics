{
 "cells": [
  {
   "cell_type": "code",
   "execution_count": 1,
   "id": "ce952c3d",
   "metadata": {},
   "outputs": [],
   "source": [
    "import pandas as pd\n",
    "import numpy as np\n",
    "from sklearn.preprocessing import StandardScaler, LabelBinarizer\n",
    "from sklearn.model_selection import train_test_split\n",
    "from sklearn.neighbors import KNeighborsClassifier\n",
    "from sklearn.metrics import auc, roc_curve, confusion_matrix"
   ]
  },
  {
   "cell_type": "code",
   "execution_count": 2,
   "id": "7f521eb7",
   "metadata": {},
   "outputs": [
    {
     "name": "stdout",
     "output_type": "stream",
     "text": [
      "Format: (48895, 16)\n"
     ]
    },
    {
     "data": {
      "text/html": [
       "<div>\n",
       "<style scoped>\n",
       "    .dataframe tbody tr th:only-of-type {\n",
       "        vertical-align: middle;\n",
       "    }\n",
       "\n",
       "    .dataframe tbody tr th {\n",
       "        vertical-align: top;\n",
       "    }\n",
       "\n",
       "    .dataframe thead th {\n",
       "        text-align: right;\n",
       "    }\n",
       "</style>\n",
       "<table border=\"1\" class=\"dataframe\">\n",
       "  <thead>\n",
       "    <tr style=\"text-align: right;\">\n",
       "      <th></th>\n",
       "      <th>id</th>\n",
       "      <th>name</th>\n",
       "      <th>host_id</th>\n",
       "      <th>host_name</th>\n",
       "      <th>neighbourhood_group</th>\n",
       "      <th>neighbourhood</th>\n",
       "      <th>latitude</th>\n",
       "      <th>longitude</th>\n",
       "      <th>room_type</th>\n",
       "      <th>price</th>\n",
       "      <th>minimum_nights</th>\n",
       "      <th>number_of_reviews</th>\n",
       "      <th>last_review</th>\n",
       "      <th>reviews_per_month</th>\n",
       "      <th>calculated_host_listings_count</th>\n",
       "      <th>availability_365</th>\n",
       "    </tr>\n",
       "  </thead>\n",
       "  <tbody>\n",
       "    <tr>\n",
       "      <th>0</th>\n",
       "      <td>2539</td>\n",
       "      <td>Clean &amp; quiet apt home by the park</td>\n",
       "      <td>2787</td>\n",
       "      <td>John</td>\n",
       "      <td>Brooklyn</td>\n",
       "      <td>Kensington</td>\n",
       "      <td>40.64749</td>\n",
       "      <td>-73.97237</td>\n",
       "      <td>Private room</td>\n",
       "      <td>149</td>\n",
       "      <td>1</td>\n",
       "      <td>9</td>\n",
       "      <td>2018-10-19</td>\n",
       "      <td>0.21</td>\n",
       "      <td>6</td>\n",
       "      <td>365</td>\n",
       "    </tr>\n",
       "    <tr>\n",
       "      <th>1</th>\n",
       "      <td>2595</td>\n",
       "      <td>Skylit Midtown Castle</td>\n",
       "      <td>2845</td>\n",
       "      <td>Jennifer</td>\n",
       "      <td>Manhattan</td>\n",
       "      <td>Midtown</td>\n",
       "      <td>40.75362</td>\n",
       "      <td>-73.98377</td>\n",
       "      <td>Entire home/apt</td>\n",
       "      <td>225</td>\n",
       "      <td>1</td>\n",
       "      <td>45</td>\n",
       "      <td>2019-05-21</td>\n",
       "      <td>0.38</td>\n",
       "      <td>2</td>\n",
       "      <td>355</td>\n",
       "    </tr>\n",
       "    <tr>\n",
       "      <th>2</th>\n",
       "      <td>3647</td>\n",
       "      <td>THE VILLAGE OF HARLEM....NEW YORK !</td>\n",
       "      <td>4632</td>\n",
       "      <td>Elisabeth</td>\n",
       "      <td>Manhattan</td>\n",
       "      <td>Harlem</td>\n",
       "      <td>40.80902</td>\n",
       "      <td>-73.94190</td>\n",
       "      <td>Private room</td>\n",
       "      <td>150</td>\n",
       "      <td>3</td>\n",
       "      <td>0</td>\n",
       "      <td>NaN</td>\n",
       "      <td>NaN</td>\n",
       "      <td>1</td>\n",
       "      <td>365</td>\n",
       "    </tr>\n",
       "    <tr>\n",
       "      <th>3</th>\n",
       "      <td>3831</td>\n",
       "      <td>Cozy Entire Floor of Brownstone</td>\n",
       "      <td>4869</td>\n",
       "      <td>LisaRoxanne</td>\n",
       "      <td>Brooklyn</td>\n",
       "      <td>Clinton Hill</td>\n",
       "      <td>40.68514</td>\n",
       "      <td>-73.95976</td>\n",
       "      <td>Entire home/apt</td>\n",
       "      <td>89</td>\n",
       "      <td>1</td>\n",
       "      <td>270</td>\n",
       "      <td>2019-07-05</td>\n",
       "      <td>4.64</td>\n",
       "      <td>1</td>\n",
       "      <td>194</td>\n",
       "    </tr>\n",
       "    <tr>\n",
       "      <th>4</th>\n",
       "      <td>5022</td>\n",
       "      <td>Entire Apt: Spacious Studio/Loft by central park</td>\n",
       "      <td>7192</td>\n",
       "      <td>Laura</td>\n",
       "      <td>Manhattan</td>\n",
       "      <td>East Harlem</td>\n",
       "      <td>40.79851</td>\n",
       "      <td>-73.94399</td>\n",
       "      <td>Entire home/apt</td>\n",
       "      <td>80</td>\n",
       "      <td>10</td>\n",
       "      <td>9</td>\n",
       "      <td>2018-11-19</td>\n",
       "      <td>0.10</td>\n",
       "      <td>1</td>\n",
       "      <td>0</td>\n",
       "    </tr>\n",
       "  </tbody>\n",
       "</table>\n",
       "</div>"
      ],
      "text/plain": [
       "     id                                              name  host_id  \\\n",
       "0  2539                Clean & quiet apt home by the park     2787   \n",
       "1  2595                             Skylit Midtown Castle     2845   \n",
       "2  3647               THE VILLAGE OF HARLEM....NEW YORK !     4632   \n",
       "3  3831                   Cozy Entire Floor of Brownstone     4869   \n",
       "4  5022  Entire Apt: Spacious Studio/Loft by central park     7192   \n",
       "\n",
       "     host_name neighbourhood_group neighbourhood  latitude  longitude  \\\n",
       "0         John            Brooklyn    Kensington  40.64749  -73.97237   \n",
       "1     Jennifer           Manhattan       Midtown  40.75362  -73.98377   \n",
       "2    Elisabeth           Manhattan        Harlem  40.80902  -73.94190   \n",
       "3  LisaRoxanne            Brooklyn  Clinton Hill  40.68514  -73.95976   \n",
       "4        Laura           Manhattan   East Harlem  40.79851  -73.94399   \n",
       "\n",
       "         room_type  price  minimum_nights  number_of_reviews last_review  \\\n",
       "0     Private room    149               1                  9  2018-10-19   \n",
       "1  Entire home/apt    225               1                 45  2019-05-21   \n",
       "2     Private room    150               3                  0         NaN   \n",
       "3  Entire home/apt     89               1                270  2019-07-05   \n",
       "4  Entire home/apt     80              10                  9  2018-11-19   \n",
       "\n",
       "   reviews_per_month  calculated_host_listings_count  availability_365  \n",
       "0               0.21                               6               365  \n",
       "1               0.38                               2               355  \n",
       "2                NaN                               1               365  \n",
       "3               4.64                               1               194  \n",
       "4               0.10                               1                 0  "
      ]
     },
     "execution_count": 2,
     "metadata": {},
     "output_type": "execute_result"
    }
   ],
   "source": [
    "df = pd.read_csv(\"C:/Users/Avisia/Downloads/AB_NYC_20192.csv\")\n",
    "print(\"Format: {}\".format(df.shape))\n",
    "df.head(5)"
   ]
  },
  {
   "cell_type": "code",
   "execution_count": 3,
   "id": "450daca3",
   "metadata": {},
   "outputs": [],
   "source": [
    "df = pd.concat([\n",
    "    df,\n",
    "    pd.get_dummies(df[['neighbourhood','neighbourhood_group','room_type']])\n",
    "], axis=1)\n",
    "\n",
    "df = df.drop(['neighbourhood','neighbourhood_group','room_type'], axis=1)"
   ]
  },
  {
   "cell_type": "code",
   "execution_count": 4,
   "id": "64462c8e",
   "metadata": {},
   "outputs": [],
   "source": [
    "df['price_cat'] = df['price'] < df['price'].median()"
   ]
  },
  {
   "cell_type": "code",
   "execution_count": 5,
   "id": "30eeb0fc",
   "metadata": {},
   "outputs": [],
   "source": [
    "X, y = df.drop('price_cat', axis=1), df.price_cat\n",
    "X_train, X_test, y_train, y_test = train_test_split(\n",
    "    X, y, test_size=0.33, random_state=42)"
   ]
  },
  {
   "cell_type": "markdown",
   "id": "c93a14ea",
   "metadata": {},
   "source": [
    "# Model 1"
   ]
  },
  {
   "cell_type": "code",
   "execution_count": 6,
   "id": "da7c13ef",
   "metadata": {},
   "outputs": [],
   "source": [
    "# Fit & predict\n",
    "neigh = KNeighborsClassifier(n_neighbors=50)\n",
    "neigh.fit(X_train[['latitude','longitude']], y_train)\n",
    "y_pred = neigh.predict(X_test[['latitude','longitude']])"
   ]
  },
  {
   "cell_type": "code",
   "execution_count": 7,
   "id": "4c3ae2db",
   "metadata": {},
   "outputs": [
    {
     "name": "stdout",
     "output_type": "stream",
     "text": [
      "AUC: 0.72\n",
      "[[5639 2396]\n",
      " [2133 5968]]\n"
     ]
    }
   ],
   "source": [
    "# Evaluation\n",
    "fpr, tpr, thresholds = roc_curve(y_test, y_pred, pos_label=True)\n",
    "auc_score = round(auc(fpr, tpr), 2)\n",
    "threshold = 0.5\n",
    "print(\"AUC: {}\".format(auc_score))\n",
    "\n",
    "print(confusion_matrix(y_test, y_pred>threshold))"
   ]
  },
  {
   "cell_type": "markdown",
   "id": "6e4bd264",
   "metadata": {},
   "source": [
    "# Model 2"
   ]
  },
  {
   "cell_type": "code",
   "execution_count": 8,
   "id": "9c54954b",
   "metadata": {},
   "outputs": [],
   "source": [
    "categorical_variables = [\n",
    "    col for col in df if col.startswith('neighbourhood') or col.startswith('room_type')\n",
    "]\n",
    "variables = [\n",
    "    'latitude', 'longitude',\n",
    "    'number_of_reviews', 'reviews_per_month'\n",
    "]\n",
    "\n",
    "variables.extend(categorical_variables)\n",
    "scaler = StandardScaler().fit(X_train[variables])\n",
    "X_train_norm = np.nan_to_num(scaler.transform(X_train[variables]))\n",
    "X_test_norm = np.nan_to_num(scaler.transform(X_test[variables]))"
   ]
  },
  {
   "cell_type": "code",
   "execution_count": 9,
   "id": "04d6cb95",
   "metadata": {},
   "outputs": [],
   "source": [
    "# Fit & predict\n",
    "neigh = KNeighborsClassifier(n_neighbors=50)\n",
    "neigh.fit(X_train_norm, y_train)\n",
    "y_pred = neigh.predict(X_test_norm)"
   ]
  },
  {
   "cell_type": "code",
   "execution_count": 10,
   "id": "f9fec7aa",
   "metadata": {},
   "outputs": [
    {
     "name": "stdout",
     "output_type": "stream",
     "text": [
      "AUC: 0.82\n",
      "[[6694 1341]\n",
      " [1531 6570]]\n"
     ]
    }
   ],
   "source": [
    "# Evaluation\n",
    "fpr, tpr, thresholds = roc_curve(y_test, y_pred, pos_label=True)\n",
    "auc_score = round(auc(fpr, tpr), 2)\n",
    "threshold = 0.5\n",
    "print(\"AUC: {}\".format(auc_score))\n",
    "\n",
    "print(confusion_matrix(y_test, y_pred>threshold))"
   ]
  },
  {
   "cell_type": "code",
   "execution_count": 11,
   "id": "aac6ec68",
   "metadata": {},
   "outputs": [
    {
     "name": "stdout",
     "output_type": "stream",
     "text": [
      "Distance metric: manhattan\n",
      "For K = 2, AUC: 0.77\n",
      "For K = 4, AUC: 0.8\n",
      "For K = 10, AUC: 0.83\n",
      "For K = 50, AUC: 0.82\n",
      "For K = 100, AUC: 0.82\n",
      "For K = 500, AUC: 0.81\n",
      "Distance metric: euclidean\n",
      "For K = 2, AUC: 0.77\n",
      "For K = 4, AUC: 0.8\n",
      "For K = 10, AUC: 0.83\n",
      "For K = 50, AUC: 0.82\n",
      "For K = 100, AUC: 0.82\n",
      "For K = 500, AUC: 0.81\n"
     ]
    }
   ],
   "source": [
    "for dist in ['manhattan', 'euclidean']:\n",
    "    print(\"Distance metric: {}\".format(dist))\n",
    "    for k in [2, 4, 10, 50, 100, 500]:\n",
    "        # Fit & predict\n",
    "        neigh = KNeighborsClassifier(n_neighbors=k, metric=dist)\n",
    "        neigh.fit(X_train_norm, y_train)\n",
    "        y_pred = neigh.predict(X_test_norm)\n",
    "\n",
    "        # Evaluation\n",
    "        fpr, tpr, thresholds = roc_curve(y_test, y_pred, pos_label=True)\n",
    "        auc_score = round(auc(fpr, tpr), 2)\n",
    "        print(\"For K = {}, AUC: {}\".format(k, auc_score))"
   ]
  }
 ],
 "metadata": {
  "kernelspec": {
   "display_name": "Python 3",
   "language": "python",
   "name": "python3"
  },
  "language_info": {
   "codemirror_mode": {
    "name": "ipython",
    "version": 3
   },
   "file_extension": ".py",
   "mimetype": "text/x-python",
   "name": "python",
   "nbconvert_exporter": "python",
   "pygments_lexer": "ipython3",
   "version": "3.8.8"
  }
 },
 "nbformat": 4,
 "nbformat_minor": 5
}
